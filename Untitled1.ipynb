{
  "cells": [
    {
      "cell_type": "code",
      "execution_count": null,
      "metadata": {
        "colab": {
          "background_save": true,
          "base_uri": "https://localhost:8080/"
        },
        "id": "0H6DCKhm_BMP",
        "outputId": "9ac52718-a4d6-4ad6-90cf-71d02df4ebf9"
      },
      "outputs": [
        {
          "name": "stdout",
          "output_type": "stream",
          "text": [
            "Hello! I’m CryptoBuddy, your AI-powered financial sidekick! 🚀\n",
            "Ask me about crypto trends, sustainability, or long-term growth. Type 'quit' to exit.\n",
            "\n",
            "CryptoBuddy: These coins are trending up: Bitcoin, Cardano 🚀\n",
            "CryptoBuddy: These coins are trending up: Bitcoin, Cardano 🚀\n",
            "CryptoBuddy: Invest in Cardano! 🌱 It’s eco-friendly and has long-term potential.\n"
          ]
        }
      ],
      "source": [
        "# Cryptocurrency Advisor Chatbot - Week 1 Assignment\n",
        "\n",
        "# 1. Chatbot personality\n",
        "bot_name = \"CryptoBuddy\"\n",
        "print(f\"Hello! I’m {bot_name}, your AI-powered financial sidekick! 🚀\")\n",
        "print(\"Ask me about crypto trends, sustainability, or long-term growth. Type 'quit' to exit.\\n\")\n",
        "\n",
        "# 2. Predefined crypto dataset\n",
        "crypto_db = {\n",
        "    \"Bitcoin\": {\n",
        "        \"price_trend\": \"rising\",\n",
        "        \"market_cap\": \"high\",\n",
        "        \"energy_use\": \"high\",\n",
        "        \"sustainability_score\": 3\n",
        "    },\n",
        "    \"Ethereum\": {\n",
        "        \"price_trend\": \"stable\",\n",
        "        \"market_cap\": \"high\",\n",
        "        \"energy_use\": \"medium\",\n",
        "        \"sustainability_score\": 6\n",
        "    },\n",
        "    \"Cardano\": {\n",
        "        \"price_trend\": \"rising\",\n",
        "        \"market_cap\": \"medium\",\n",
        "        \"energy_use\": \"low\",\n",
        "        \"sustainability_score\": 8\n",
        "    }\n",
        "}\n",
        "\n",
        "# 3. Chatbot logic (rule-based)\n",
        "def chatbot_response(user_query):\n",
        "    query = user_query.lower()\n",
        "\n",
        "    # Sustainable coin\n",
        "    if \"sustainable\" in query:\n",
        "        recommend = max(crypto_db, key=lambda x: crypto_db[x][\"sustainability_score\"])\n",
        "        return f\"Invest in {recommend}! 🌱 It’s eco-friendly and has long-term potential.\"\n",
        "\n",
        "    # Trending coins\n",
        "    if \"trending\" in query or \"growth\" in query:\n",
        "        trending = [coin for coin, data in crypto_db.items() if data[\"price_trend\"] == \"rising\"]\n",
        "        return f\"These coins are trending up: {', '.join(trending)} 🚀\"\n",
        "\n",
        "    # Profitable coins\n",
        "    if \"profitable\" in query or \"long-term\" in query:\n",
        "        for coin, data in crypto_db.items():\n",
        "            if data[\"price_trend\"] == \"rising\" and data[\"market_cap\"] == \"high\":\n",
        "                return f\"{coin} looks profitable for long-term growth! 📈\"\n",
        "\n",
        "    # Default fallback\n",
        "    return \"I’m not sure about that. Please ask about trends, sustainability, or profitability.\"\n",
        "\n",
        "# 4. Chat loop\n",
        "while True:\n",
        "    user_input = input(\"You: \")\n",
        "    if user_input.lower() in [\"quit\", \"exit\", \"bye\"]:\n",
        "        print(f\"{bot_name}: Remember, crypto is risky—always do your own research! Goodbye!\")\n",
        "        break\n",
        "    print(f\"{bot_name}: {chatbot_response(user_input)}\")\n"
      ]
    }
  ],
  "metadata": {
    "colab": {
      "provenance": []
    },
    "kernelspec": {
      "display_name": "Python 3",
      "name": "python3"
    },
    "language_info": {
      "name": "python"
    }
  },
  "nbformat": 4,
  "nbformat_minor": 0
}